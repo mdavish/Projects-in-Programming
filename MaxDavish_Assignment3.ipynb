{
 "cells": [
  {
   "cell_type": "markdown",
   "metadata": {},
   "source": [
    "# Max Davish: Assignment 3\n",
    "## Crawling and storing Gallup Daily Data.\n",
    "\n",
    "#### Part I: Database Script\n",
    "The first part of this assignment is completed in the attached python script - A3_DatabaseScript. This script takes the scrapes the \"Gallup Daily\" data from [gallup.com](http://www.gallup.com/home.aspx) and inserts it into an SQL database. This data is updated at 1:00 pm every day, and every day at 2:00 pm the script is run via crontab to record the changes.\n",
    "\n",
    "#### Part II: Pandas Visualization\n",
    "With the data added continually to the database, we can use this notebook to aggregate and visualize the data within the database.  "
   ]
  },
  {
   "cell_type": "code",
   "execution_count": 28,
   "metadata": {
    "collapsed": true
   },
   "outputs": [],
   "source": [
    "import MySQLdb as mdb\n",
    "import sys\n",
    "\n",
    "con = mdb.connect(host = 'localhost', \n",
    "                  user = 'root', \n",
    "                  passwd = 'dwdstudent2015', \n",
    "                  charset='utf8', use_unicode=True);"
   ]
  },
  {
   "cell_type": "code",
   "execution_count": 30,
   "metadata": {
    "collapsed": true
   },
   "outputs": [],
   "source": [
    "#To facilitate querying the database:\n",
    "def SQLquery(query):\n",
    "    import MySQLdb as mdb\n",
    "    import sys\n",
    "    cur = con.cursor(mdb.cursors.DictCursor)\n",
    "    cur.execute(query)\n",
    "    rows = cur.fetchall()\n",
    "    return rows\n",
    "\n",
    "def SQLquery_df(query):\n",
    "    import pandas\n",
    "    import MySQLdb as mdb\n",
    "    import sys\n",
    "    cur = con.cursor(mdb.cursors.DictCursor)\n",
    "    cur.execute(query)\n",
    "    rows = cur.fetchall()\n",
    "    rows\n",
    "    df_from_sql = pandas.DataFrame(list(rows))\n",
    "    return df_from_sql"
   ]
  },
  {
   "cell_type": "code",
   "execution_count": 32,
   "metadata": {
    "collapsed": false
   },
   "outputs": [
    {
     "data": {
      "text/html": [
       "<div>\n",
       "<table border=\"1\" class=\"dataframe\">\n",
       "  <thead>\n",
       "    <tr style=\"text-align: right;\">\n",
       "      <th></th>\n",
       "      <th>consumerspend</th>\n",
       "      <th>econfidence</th>\n",
       "      <th>engaged</th>\n",
       "      <th>goodjobs</th>\n",
       "      <th>timestamp</th>\n",
       "      <th>trumpapprove</th>\n",
       "      <th>unemployment</th>\n",
       "    </tr>\n",
       "  </thead>\n",
       "  <tbody>\n",
       "    <tr>\n",
       "      <th>0</th>\n",
       "      <td>98.0</td>\n",
       "      <td>7.0</td>\n",
       "      <td>0.330</td>\n",
       "      <td>0.453</td>\n",
       "      <td>2017-03-22 20:46:18</td>\n",
       "      <td>0.40</td>\n",
       "      <td>0.092</td>\n",
       "    </tr>\n",
       "    <tr>\n",
       "      <th>1</th>\n",
       "      <td>98.0</td>\n",
       "      <td>7.0</td>\n",
       "      <td>0.330</td>\n",
       "      <td>0.453</td>\n",
       "      <td>2017-03-22 20:46:38</td>\n",
       "      <td>0.40</td>\n",
       "      <td>0.092</td>\n",
       "    </tr>\n",
       "    <tr>\n",
       "      <th>2</th>\n",
       "      <td>98.0</td>\n",
       "      <td>7.0</td>\n",
       "      <td>0.330</td>\n",
       "      <td>0.453</td>\n",
       "      <td>2017-03-22 20:50:01</td>\n",
       "      <td>0.40</td>\n",
       "      <td>0.092</td>\n",
       "    </tr>\n",
       "    <tr>\n",
       "      <th>3</th>\n",
       "      <td>98.0</td>\n",
       "      <td>7.0</td>\n",
       "      <td>0.330</td>\n",
       "      <td>0.453</td>\n",
       "      <td>2017-03-22 20:50:10</td>\n",
       "      <td>0.40</td>\n",
       "      <td>0.092</td>\n",
       "    </tr>\n",
       "    <tr>\n",
       "      <th>4</th>\n",
       "      <td>87.0</td>\n",
       "      <td>4.0</td>\n",
       "      <td>0.334</td>\n",
       "      <td>0.452</td>\n",
       "      <td>2017-03-23 23:44:29</td>\n",
       "      <td>0.39</td>\n",
       "      <td>0.092</td>\n",
       "    </tr>\n",
       "    <tr>\n",
       "      <th>5</th>\n",
       "      <td>87.0</td>\n",
       "      <td>4.0</td>\n",
       "      <td>0.334</td>\n",
       "      <td>0.452</td>\n",
       "      <td>2017-03-23 23:45:02</td>\n",
       "      <td>0.39</td>\n",
       "      <td>0.092</td>\n",
       "    </tr>\n",
       "    <tr>\n",
       "      <th>6</th>\n",
       "      <td>87.0</td>\n",
       "      <td>4.0</td>\n",
       "      <td>0.334</td>\n",
       "      <td>0.452</td>\n",
       "      <td>2017-03-23 23:46:02</td>\n",
       "      <td>0.39</td>\n",
       "      <td>0.092</td>\n",
       "    </tr>\n",
       "    <tr>\n",
       "      <th>7</th>\n",
       "      <td>87.0</td>\n",
       "      <td>4.0</td>\n",
       "      <td>0.334</td>\n",
       "      <td>0.452</td>\n",
       "      <td>2017-03-23 23:47:02</td>\n",
       "      <td>0.39</td>\n",
       "      <td>0.092</td>\n",
       "    </tr>\n",
       "    <tr>\n",
       "      <th>8</th>\n",
       "      <td>87.0</td>\n",
       "      <td>4.0</td>\n",
       "      <td>0.334</td>\n",
       "      <td>0.452</td>\n",
       "      <td>2017-03-24 14:00:02</td>\n",
       "      <td>0.39</td>\n",
       "      <td>0.092</td>\n",
       "    </tr>\n",
       "    <tr>\n",
       "      <th>9</th>\n",
       "      <td>97.0</td>\n",
       "      <td>4.0</td>\n",
       "      <td>0.343</td>\n",
       "      <td>0.451</td>\n",
       "      <td>2017-03-24 23:22:32</td>\n",
       "      <td>0.41</td>\n",
       "      <td>0.092</td>\n",
       "    </tr>\n",
       "    <tr>\n",
       "      <th>10</th>\n",
       "      <td>97.0</td>\n",
       "      <td>4.0</td>\n",
       "      <td>0.343</td>\n",
       "      <td>0.451</td>\n",
       "      <td>2017-03-25 14:00:02</td>\n",
       "      <td>0.41</td>\n",
       "      <td>0.092</td>\n",
       "    </tr>\n",
       "    <tr>\n",
       "      <th>11</th>\n",
       "      <td>96.0</td>\n",
       "      <td>4.0</td>\n",
       "      <td>0.344</td>\n",
       "      <td>0.450</td>\n",
       "      <td>2017-03-26 14:00:02</td>\n",
       "      <td>0.41</td>\n",
       "      <td>0.092</td>\n",
       "    </tr>\n",
       "    <tr>\n",
       "      <th>12</th>\n",
       "      <td>103.0</td>\n",
       "      <td>4.0</td>\n",
       "      <td>0.344</td>\n",
       "      <td>0.451</td>\n",
       "      <td>2017-03-27 14:00:02</td>\n",
       "      <td>0.40</td>\n",
       "      <td>0.092</td>\n",
       "    </tr>\n",
       "    <tr>\n",
       "      <th>13</th>\n",
       "      <td>95.0</td>\n",
       "      <td>4.0</td>\n",
       "      <td>0.337</td>\n",
       "      <td>0.451</td>\n",
       "      <td>2017-03-28 14:00:02</td>\n",
       "      <td>0.36</td>\n",
       "      <td>0.092</td>\n",
       "    </tr>\n",
       "  </tbody>\n",
       "</table>\n",
       "</div>"
      ],
      "text/plain": [
       "    consumerspend  econfidence  engaged  goodjobs           timestamp  \\\n",
       "0            98.0          7.0    0.330     0.453 2017-03-22 20:46:18   \n",
       "1            98.0          7.0    0.330     0.453 2017-03-22 20:46:38   \n",
       "2            98.0          7.0    0.330     0.453 2017-03-22 20:50:01   \n",
       "3            98.0          7.0    0.330     0.453 2017-03-22 20:50:10   \n",
       "4            87.0          4.0    0.334     0.452 2017-03-23 23:44:29   \n",
       "5            87.0          4.0    0.334     0.452 2017-03-23 23:45:02   \n",
       "6            87.0          4.0    0.334     0.452 2017-03-23 23:46:02   \n",
       "7            87.0          4.0    0.334     0.452 2017-03-23 23:47:02   \n",
       "8            87.0          4.0    0.334     0.452 2017-03-24 14:00:02   \n",
       "9            97.0          4.0    0.343     0.451 2017-03-24 23:22:32   \n",
       "10           97.0          4.0    0.343     0.451 2017-03-25 14:00:02   \n",
       "11           96.0          4.0    0.344     0.450 2017-03-26 14:00:02   \n",
       "12          103.0          4.0    0.344     0.451 2017-03-27 14:00:02   \n",
       "13           95.0          4.0    0.337     0.451 2017-03-28 14:00:02   \n",
       "\n",
       "    trumpapprove  unemployment  \n",
       "0           0.40         0.092  \n",
       "1           0.40         0.092  \n",
       "2           0.40         0.092  \n",
       "3           0.40         0.092  \n",
       "4           0.39         0.092  \n",
       "5           0.39         0.092  \n",
       "6           0.39         0.092  \n",
       "7           0.39         0.092  \n",
       "8           0.39         0.092  \n",
       "9           0.41         0.092  \n",
       "10          0.41         0.092  \n",
       "11          0.41         0.092  \n",
       "12          0.40         0.092  \n",
       "13          0.36         0.092  "
      ]
     },
     "execution_count": 32,
     "metadata": {},
     "output_type": "execute_result"
    }
   ],
   "source": [
    "#Here we see the entire dataset...\n",
    "#... but there are some redundant records that we'd like to ignore.\n",
    "SQLquery_df('SELECT * FROM MaxDavish_GallupDailyData.GallupDailyData;')"
   ]
  },
  {
   "cell_type": "code",
   "execution_count": 33,
   "metadata": {
    "collapsed": false
   },
   "outputs": [
    {
     "data": {
      "text/html": [
       "<div>\n",
       "<table border=\"1\" class=\"dataframe\">\n",
       "  <thead>\n",
       "    <tr style=\"text-align: right;\">\n",
       "      <th></th>\n",
       "      <th>consumerspend</th>\n",
       "      <th>date</th>\n",
       "      <th>econfidence</th>\n",
       "      <th>engaged</th>\n",
       "      <th>goodjobs</th>\n",
       "      <th>trumpapprove</th>\n",
       "      <th>unemployment</th>\n",
       "    </tr>\n",
       "  </thead>\n",
       "  <tbody>\n",
       "    <tr>\n",
       "      <th>0</th>\n",
       "      <td>98.0</td>\n",
       "      <td>2017-03-22</td>\n",
       "      <td>7.0</td>\n",
       "      <td>0.3300</td>\n",
       "      <td>0.453</td>\n",
       "      <td>0.40</td>\n",
       "      <td>0.092</td>\n",
       "    </tr>\n",
       "    <tr>\n",
       "      <th>1</th>\n",
       "      <td>87.0</td>\n",
       "      <td>2017-03-23</td>\n",
       "      <td>4.0</td>\n",
       "      <td>0.3340</td>\n",
       "      <td>0.452</td>\n",
       "      <td>0.39</td>\n",
       "      <td>0.092</td>\n",
       "    </tr>\n",
       "    <tr>\n",
       "      <th>2</th>\n",
       "      <td>92.0</td>\n",
       "      <td>2017-03-24</td>\n",
       "      <td>4.0</td>\n",
       "      <td>0.3385</td>\n",
       "      <td>0.451</td>\n",
       "      <td>0.40</td>\n",
       "      <td>0.092</td>\n",
       "    </tr>\n",
       "    <tr>\n",
       "      <th>3</th>\n",
       "      <td>97.0</td>\n",
       "      <td>2017-03-25</td>\n",
       "      <td>4.0</td>\n",
       "      <td>0.3430</td>\n",
       "      <td>0.451</td>\n",
       "      <td>0.41</td>\n",
       "      <td>0.092</td>\n",
       "    </tr>\n",
       "    <tr>\n",
       "      <th>4</th>\n",
       "      <td>96.0</td>\n",
       "      <td>2017-03-26</td>\n",
       "      <td>4.0</td>\n",
       "      <td>0.3440</td>\n",
       "      <td>0.450</td>\n",
       "      <td>0.41</td>\n",
       "      <td>0.092</td>\n",
       "    </tr>\n",
       "    <tr>\n",
       "      <th>5</th>\n",
       "      <td>103.0</td>\n",
       "      <td>2017-03-27</td>\n",
       "      <td>4.0</td>\n",
       "      <td>0.3440</td>\n",
       "      <td>0.451</td>\n",
       "      <td>0.40</td>\n",
       "      <td>0.092</td>\n",
       "    </tr>\n",
       "    <tr>\n",
       "      <th>6</th>\n",
       "      <td>95.0</td>\n",
       "      <td>2017-03-28</td>\n",
       "      <td>4.0</td>\n",
       "      <td>0.3370</td>\n",
       "      <td>0.451</td>\n",
       "      <td>0.36</td>\n",
       "      <td>0.092</td>\n",
       "    </tr>\n",
       "  </tbody>\n",
       "</table>\n",
       "</div>"
      ],
      "text/plain": [
       "   consumerspend        date  econfidence  engaged  goodjobs  trumpapprove  \\\n",
       "0           98.0  2017-03-22          7.0   0.3300     0.453          0.40   \n",
       "1           87.0  2017-03-23          4.0   0.3340     0.452          0.39   \n",
       "2           92.0  2017-03-24          4.0   0.3385     0.451          0.40   \n",
       "3           97.0  2017-03-25          4.0   0.3430     0.451          0.41   \n",
       "4           96.0  2017-03-26          4.0   0.3440     0.450          0.41   \n",
       "5          103.0  2017-03-27          4.0   0.3440     0.451          0.40   \n",
       "6           95.0  2017-03-28          4.0   0.3370     0.451          0.36   \n",
       "\n",
       "   unemployment  \n",
       "0         0.092  \n",
       "1         0.092  \n",
       "2         0.092  \n",
       "3         0.092  \n",
       "4         0.092  \n",
       "5         0.092  \n",
       "6         0.092  "
      ]
     },
     "execution_count": 33,
     "metadata": {},
     "output_type": "execute_result"
    }
   ],
   "source": [
    "#Here's the daily data, adjusted so that there's just one per day:\n",
    "    #(I needed to make this adjustment because, in testing the database script, I produced some extra, unnecessary records.)\n",
    "import pandas\n",
    "GallupDailyData = SQLquery('''SELECT DATE(timestamp) as date, \n",
    "                ROUND(AVG(unemployment),3) as unemployment,\n",
    "                ROUND(AVG(goodjobs),3) as goodjobs,\n",
    "                ROUND(AVG(engaged),4) as engaged,\n",
    "                ROUND(AVG(econfidence),1) as econfidence,\n",
    "                AVG(consumerspend) as consumerspend,\n",
    "                ROUND(AVG(trumpapprove),3) as trumpapprove\n",
    "                FROM MaxDavish_GallupDailyData.GallupDailyData\n",
    "                GROUP BY date\n",
    "\n",
    "''')\n",
    "\n",
    "GallupDF = pandas.DataFrame(list(GallupDailyData))\n",
    "GallupDF"
   ]
  },
  {
   "cell_type": "code",
   "execution_count": 34,
   "metadata": {
    "collapsed": false
   },
   "outputs": [
    {
     "data": {
      "text/plain": [
       "consumerspend    float64\n",
       "date              object\n",
       "econfidence      float64\n",
       "engaged          float64\n",
       "goodjobs         float64\n",
       "trumpapprove     float64\n",
       "unemployment     float64\n",
       "dtype: object"
      ]
     },
     "execution_count": 34,
     "metadata": {},
     "output_type": "execute_result"
    }
   ],
   "source": [
    "#Let's make sure all of our datatypes are correct before we begin plotting:\n",
    "GallupDF.dtypes"
   ]
  },
  {
   "cell_type": "code",
   "execution_count": 35,
   "metadata": {
    "collapsed": false
   },
   "outputs": [
    {
     "data": {
      "text/plain": [
       "consumerspend           float64\n",
       "date             datetime64[ns]\n",
       "econfidence             float64\n",
       "engaged                 float64\n",
       "goodjobs                float64\n",
       "trumpapprove            float64\n",
       "unemployment            float64\n",
       "dtype: object"
      ]
     },
     "execution_count": 35,
     "metadata": {},
     "output_type": "execute_result"
    }
   ],
   "source": [
    "#Just need to adjust \"date\":\n",
    "GallupDF[\"date\"] = pandas.to_datetime(GallupDF[\"date\"], format=\"%Y/%m/%d\")\n",
    "GallupDF.dtypes"
   ]
  },
  {
   "cell_type": "code",
   "execution_count": 36,
   "metadata": {
    "collapsed": false
   },
   "outputs": [],
   "source": [
    "import matplotlib.pyplot as plt\n",
    "plt.style.use('ggplot')\n",
    "%matplotlib inline"
   ]
  },
  {
   "cell_type": "code",
   "execution_count": 51,
   "metadata": {
    "collapsed": false
   },
   "outputs": [
    {
     "data": {
      "text/plain": [
       "<matplotlib.axes._subplots.AxesSubplot at 0x7f0b1c880128>"
      ]
     },
     "execution_count": 51,
     "metadata": {},
     "output_type": "execute_result"
    },
    {
     "data": {
      "image/png": "[encoded data removed]",
      "text/plain": [
       "<matplotlib.figure.Figure at 0x7f0b1d454ef0>"
      ]
     },
     "metadata": {},
     "output_type": "display_data"
    },
    {
     "data": {
      "image/png": "[encoded data removed]",
      "text/plain": [
       "<matplotlib.figure.Figure at 0x7f0b1d454ba8>"
      ]
     },
     "metadata": {},
     "output_type": "display_data"
    },
    {
     "data": {
      "image/png": "[encoded data removed]",
      "text/plain": [
       "<matplotlib.figure.Figure at 0x7f0b1d20c8d0>"
      ]
     },
     "metadata": {},
     "output_type": "display_data"
    },
    {
     "data": {
      "image/png": "[encoded data removed]",
      "text/plain": [
       "<matplotlib.figure.Figure at 0x7f0b1d03b7b8>"
      ]
     },
     "metadata": {},
     "output_type": "display_data"
    },
    {
     "data": {
      "image/png": "[encoded data removed]",
      "text/plain": [
       "<matplotlib.figure.Figure at 0x7f0b1ccbfcf8>"
      ]
     },
     "metadata": {},
     "output_type": "display_data"
    },
    {
     "data": {
      "image/png": "[encoded data removed]",
      "text/plain": [
       "<matplotlib.figure.Figure at 0x7f0b1c9f72b0>"
      ]
     },
     "metadata": {},
     "output_type": "display_data"
    }
   ],
   "source": [
    "#And here we have the plots!\n",
    "GallupDF.plot.line(x='date', y='unemployment', color=\"blue\", ylim=(0,0.2), title=\"U-6 Unemployment Rate\", legend=False)\n",
    "GallupDF.plot.line(x='date', y='goodjobs', color=\"green\", title=\"Poll: Good Jobs\", legend=False)\n",
    "GallupDF.plot.line(x='date', y='engaged', color=\"magenta\", title=\"Poll: Engaged at Work\", legend=False)\n",
    "GallupDF.plot.line(x='date', y='econfidence', color=\"skyblue\", ylim=(0,10), title=\"Economic Confidence\", legend=False)\n",
    "GallupDF.plot.line(x='date', y='consumerspend', color=\"grey\", title=\"Consumer Spending\", legend=False)\n",
    "GallupDF.plot.line(x='date', y='trumpapprove', color=\"orange\", ylim=(0,1), title=\"Trump's Approval Rating\", legend=False) #Seems like the appropriate color."
   ]
  },
  {
   "cell_type": "markdown",
   "metadata": {},
   "source": [
    "At present, these charts aren't particularly interesting. Some hardly reflect any movement at all. But over time they will become a valuable data asset, as we will be able quantify and observe the state of union over long periods of time."
   ]
  },
  {
   "cell_type": "markdown",
   "metadata": {},
   "source": [
    "### Slack Bot Attempt\n",
    "Below is code I began writing to create a slack bot to report the Gallup Daily data. I didn't have time to finish it, but I'll leave it, just in case."
   ]
  },
  {
   "cell_type": "code",
   "execution_count": 38,
   "metadata": {
    "collapsed": false
   },
   "outputs": [],
   "source": [
    "# This part is required to come up with the pop-up with which Slack will ask for permissions\n",
    "# Remember to have the Flask webserver up and running (WebServer_Receive_Slack_Authentication.py)\n",
    "# to receive the code.\n",
    "#from IPython.display import display\n",
    "#from IPython.display import Javascript as JS\n",
    "\n",
    "#slack_url = \"https://slack.com/oauth/authorize\"\n",
    "#client_id = '132047100118.157644472416'\n",
    "\n",
    "# remember, the Flask server needs to run\n",
    "# also, the URL below needs to point to your own server\n",
    "#redirect_uri = 'http://ec2-52-87-159-211.compute-1.amazonaws.com:5001/slack' \n",
    "#permissions = 'client'\n",
    "\n",
    "# Send an OAuth request to Slack, handle the redirect, and display the access\n",
    "# token that's included in the redirect for the user to copy and paste\n",
    "#url = (slack_url + \n",
    "    #'?response_type=code' + \n",
    "    #'&client_id='+ client_id + \n",
    "    #'&scope=' + permissions +\n",
    "    #'&redirect_uri=' + redirect_uri )\n",
    "\n",
    "# The code below is necessary to pop up the login window\n",
    "#display(JS(\"window.open('%s')\" % url))"
   ]
  }
 ],
 "metadata": {
  "kernelspec": {
   "display_name": "Python 3",
   "language": "python",
   "name": "python3"
  },
  "language_info": {
   "codemirror_mode": {
    "name": "ipython",
    "version": 3
   },
   "file_extension": ".py",
   "mimetype": "text/x-python",
   "name": "python",
   "nbconvert_exporter": "python",
   "pygments_lexer": "ipython3",
   "version": "3.5.2"
  }
 },
 "nbformat": 4,
 "nbformat_minor": 2
}
