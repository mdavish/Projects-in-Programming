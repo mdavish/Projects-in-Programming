{
 "cells": [
  {
   "cell_type": "markdown",
   "metadata": {},
   "source": [
    "# Assignment 2: Slack Bot\n",
    "### Max Davish | PPDS Spring 17\n",
    "\n",
    "For this assignment, I've created a bot that, when asked, will return information about the current weather in a given citb y querying the Open Weather Map API. The annotated code from the script I used is below. "
   ]
  },
  {
   "cell_type": "code",
   "execution_count": 2,
   "metadata": {
    "collapsed": true
   },
   "outputs": [],
   "source": [
    "#!/usr/bin/python3\n",
    "\n",
    "#The various libraries we'll have to use:\n",
    "import json\n",
    "import time\n",
    "import re\n",
    "import requests"
   ]
  },
  {
   "cell_type": "code",
   "execution_count": 12,
   "metadata": {
    "collapsed": true
   },
   "outputs": [],
   "source": [
    "secrets_file = 'slack_secret.json'\n",
    "    #Copied via terminal from NYU_Notes over to this folder.\n",
    "f = open(secrets_file, 'r') \n",
    "content = f.read()\n",
    "auth_info = json.loads(content)\n",
    "token = auth_info[\"access_token\"]\n",
    "    #So we can authorize the SlackClient library in the next cell.\n",
    "f.close()"
   ]
  },
  {
   "cell_type": "code",
   "execution_count": 13,
   "metadata": {
    "collapsed": true
   },
   "outputs": [],
   "source": [
    "from slackclient import SlackClient\n",
    "sc = SlackClient(token)"
   ]
  },
  {
   "cell_type": "code",
   "execution_count": 6,
   "metadata": {
    "collapsed": true
   },
   "outputs": [],
   "source": [
    "#So we can recognize when our bot is queried:\n",
    "#Recognizes messages containing my username (@maxdavish) followed by the word \"bot\"\n",
    "def message_matches(user_id, message_text):\n",
    "    regex_expression = '.*@' + user_id + '.*bot.*'\n",
    "    regex = re.compile(regex_expression)\n",
    "    match = regex.match(message_text)\n",
    "    return match != None "
   ]
  },
  {
   "cell_type": "code",
   "execution_count": 7,
   "metadata": {
    "collapsed": true
   },
   "outputs": [],
   "source": [
    "#This function uses regular expressions to extract the name of a city a query with the following structure:\n",
    "    #How's the weather in London?\n",
    "#It accepts cities with multiple words (e.g. New York, Hong Kong) and mostly ignores capitalization.\n",
    "def Extract_CityName(message_text):\n",
    "    regex_expression = '[H,h]ow\\'s the weather in ([A-z, ]+)\\?'\n",
    "    regex = re.compile(regex_expression)\n",
    "    matches = regex.finditer(message_text)\n",
    "    for match in matches:\n",
    "        return match.group(1)\n",
    "    \n",
    "    return None"
   ]
  },
  {
   "cell_type": "code",
   "execution_count": 14,
   "metadata": {
    "collapsed": true
   },
   "outputs": [],
   "source": [
    "#This code is recycled from assignment 1; it queries the Open Weather API.\n",
    "key = '097217bc8c67dcadb7f7f7b295429be1'\n",
    "def Get_WeatherData(key, city):\n",
    "    import requests\n",
    "    return requests.get('http://api.openweathermap.org/data/2.5/weather?q={city}&appid={key}'.format(city=city,key=key)).json()"
   ]
  },
  {
   "cell_type": "code",
   "execution_count": 9,
   "metadata": {
    "collapsed": true
   },
   "outputs": [],
   "source": [
    "#For some reason, the Open Weather API returns kelvin temperatures. This formula converts them to farneheit. \n",
    "def Kelvin_to_Farenheit(temp_kelvin):\n",
    "    return (temp_kelvin - 273) * (9/5) + 32"
   ]
  },
  {
   "cell_type": "code",
   "execution_count": 10,
   "metadata": {
    "collapsed": true
   },
   "outputs": [],
   "source": [
    "#This function dictates the bot's response:\n",
    "    #If the Extract_CityName function offers no response, the bot asks the user to rephrase the query altogether.\n",
    "    #If the Extract_CityName function produces a city that the API doesn't recognize, the bot prompts the user to retype the city.\n",
    "    #If all goes well, the bot simply tells the user the temperature and status of the weather in the relevant city. \n",
    "def Return_WeatherResults(city, user):\n",
    "    key = '097217bc8c67dcadb7f7f7b295429be1'\n",
    "    data = Get_WeatherData(key, city)\n",
    "    \n",
    "    if city == None:\n",
    "        return \"I'm sorry @{user}, I'm not sure I understand. Try rephrasing in this form: \\n \\'Hey @maxdavish bot, how's the weather in London?\\'\".format(user=user)\n",
    "    \n",
    "    if 'message' in data.keys():\n",
    "        return \"I'm sorry @{user}, I'm not familiar with that place. Please try again.\".format(user=user)\n",
    "\n",
    "    else: \n",
    "        city = city\n",
    "        temperature = round(Kelvin_to_Farenheit(data['main']['temp']), 1)\n",
    "        hightemp = round(Kelvin_to_Farenheit(data['main']['temp_max']), 1)\n",
    "        lowtemp = round(Kelvin_to_Farenheit(data['main']['temp_min']), 1)\n",
    "        description = data['weather'][0]['description']\n",
    "        result = \"@{user}, currently in {city} it's {temperature} degrees farenheit with {description}, with a high of {hightemp} and a low of {lowtemp}.\".format(user=user, city=city,temperature=temperature,description=description,hightemp=hightemp,lowtemp=lowtemp)\n",
    "        return result\n"
   ]
  },
  {
   "cell_type": "code",
   "execution_count": null,
   "metadata": {
    "collapsed": true
   },
   "outputs": [],
   "source": [
    "#This code is shamelessly copied from Panos's CitiBike example:\n",
    "if sc.rtm_connect():\n",
    "    while True:\n",
    "        time.sleep(1)\n",
    "        response = sc.rtm_read()\n",
    "        for item in response:\n",
    "            if item.get(\"type\") != 'message':\n",
    "                continue\n",
    "                \n",
    "            if item.get(\"user\") == None:\n",
    "                continue\n",
    "            \n",
    "            user_id = auth_info[\"user_id\"]\n",
    "            message_text = item.get('text')\n",
    "            if not message_matches(user_id, message_text):\n",
    "                continue\n",
    "                \n",
    "            response = sc.api_call(\"users.info\", user=item[\"user\"])\n",
    "            username = response['user'].get('name')\n",
    "        \n",
    "            city_name = Extract_CityName(message_text)\n",
    "\n",
    "            message = Return_WeatherResults(city_name, username)\n",
    "\n",
    "            sc.api_call(\"chat.postMessage\", channel=\"#assignment2_bots\", text=message)"
   ]
  }
 ],
 "metadata": {
  "kernelspec": {
   "display_name": "Python 3",
   "language": "python",
   "name": "python3"
  },
  "language_info": {
   "codemirror_mode": {
    "name": "ipython",
    "version": 3
   },
   "file_extension": ".py",
   "mimetype": "text/x-python",
   "name": "python",
   "nbconvert_exporter": "python",
   "pygments_lexer": "ipython3",
   "version": "3.5.2"
  }
 },
 "nbformat": 4,
 "nbformat_minor": 2
}
